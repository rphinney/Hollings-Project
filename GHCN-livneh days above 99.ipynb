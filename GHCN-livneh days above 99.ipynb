{
 "cells": [
  {
   "cell_type": "code",
   "execution_count": 3,
   "metadata": {
    "collapsed": false
   },
   "outputs": [],
   "source": [
    "import numpy as np\n",
    "import matplotlib.pyplot as plt\n",
    "from netCDF4 import Dataset\n",
    "from scipy import stats\n",
    "from geopy.distance import great_circle\n",
    "from scipy.stats.stats import pearsonr"
   ]
  },
  {
   "cell_type": "code",
   "execution_count": 4,
   "metadata": {
    "collapsed": false
   },
   "outputs": [
    {
     "name": "stdout",
     "output_type": "stream",
     "text": [
      "Populating the interactive namespace from numpy and matplotlib\n"
     ]
    }
   ],
   "source": [
    "%pylab inline"
   ]
  },
  {
   "cell_type": "code",
   "execution_count": 15,
   "metadata": {
    "collapsed": true
   },
   "outputs": [],
   "source": [
    "\n",
    "station = 'USW00013874'\n",
    "#station = 'USW00093009'\n",
    " \n",
    "filename = '/Users/rphinney/Documents/Hollings/ghcnd_all/'+station+'.dly'\n",
    "file = open(filename, 'r')\n"
   ]
  },
  {
   "cell_type": "code",
   "execution_count": 16,
   "metadata": {
    "collapsed": false
   },
   "outputs": [
    {
     "name": "stdout",
     "output_type": "stream",
     "text": [
      " ATLANTA HARTSFIELD INTL AP   \n",
      "33.6300\n",
      " -84.4417 \n",
      "odict_keys(['time', 'time_bounds', 'lon', 'lon_bounds', 'lat', 'lat_bounds', 'pr_days_above_99th'])\n",
      "46752\n",
      "46284\n",
      "[4, 5, 3, 4, 2, 1, 1, 1, 5, 2, 4, 6, 5, 5, 6, 2, 4, 5, 1, 2, 3, 4, 5, 7, 0, 6, 4, 6, 3, 2, 5, 3, 3, 4, 3, 3, 3, 4, 3, 7, 6, 5, 7, 2, 5, 2, 3, 3, 3, 1, 0, 2, 6, 2, 5, 5, 4, 0, 1, 8, 6, 1, 2, 6]\n",
      "[4.0, 4.0, 3.0, 5.0, 2.0, 1.0, 4.0, 1.0, 5.0, 3.0, 4.0, 7.0, 5.0, 5.0, 7.0, 3.0, 3.0, 3.0, 1.0, 2.0, 3.0, 4.0, 6.0, 7.0, 0.0, 5.0, 4.0, 5.0, 3.0, 2.0, 4.0, 3.0, 3.0, 4.0, 3.0, 3.0, 3.0, 4.0, 4.0, 7.0, 6.0, 5.0, 6.0, 1.0, 6.0, 3.0, 4.0, 6.0, 3.0, 0.0, 0.0, 2.0, 5.0, 2.0, 4.0, 5.0, 4.0, 0.0, 3.0, 9.0, 7.0, 1.0, 2.0, 6.0]\n",
      "1.79764910036e-24\n"
     ]
    },
    {
     "data": {
      "text/plain": [
       "<matplotlib.text.Text at 0x119f6e908>"
      ]
     },
     "execution_count": 16,
     "metadata": {},
     "output_type": "execute_result"
    },
    {
     "data": {
      "image/png": "[encoded data removed]",
      "text/plain": [
       "<matplotlib.figure.Figure at 0x1209533c8>"
      ]
     },
     "metadata": {},
     "output_type": "display_data"
    }
   ],
   "source": [
    "\n",
    "    \n",
    "#Using ghcnd-stations.txt get the station information\n",
    "\n",
    "path = '/Users/rphinney/Documents/Hollings/ghcnd-stations.txt'\n",
    "\n",
    "station_file = open(path)\n",
    "ghcnd = []\n",
    "\n",
    "for x in station_file:\n",
    "    ghcnd.append(x)\n",
    "\n",
    "for each_line in ghcnd:   \n",
    "    if each_line[0:11] == station:\n",
    "        station_name = each_line[40:70]\n",
    "        station_state = each_line[38:40]\n",
    "        latitude = each_line[13:20]\n",
    "        longitude = each_line[21:31]\n",
    "        elevation = each_line[32:38]\n",
    "        station_name.strip()\n",
    "        print(station_name)\n",
    "        print(latitude)\n",
    "        print(longitude)\n",
    "            \n",
    "            \n",
    "            \n",
    "#------------------------------------------------------------------\n",
    "#find nearest grid from the livneh file\n",
    "    \n",
    "filepath = '/Users/rphinney/Documents/Hollings/livneh_NAmerExt_15Oct2014_pr-days-above-99th_historical_1950_2013.nc'\n",
    "data = Dataset(filepath)\n",
    "    \n",
    "lon = data.variables['lon'][:]\n",
    "lat = data.variables['lat'][:]\n",
    "print(data.variables.keys())\n",
    "prcp = data.variables['pr_days_above_99th'][:]\n",
    "\n",
    "            \n",
    "station_loc = (latitude,longitude)\n",
    "min_loc = 9999\n",
    "    \n",
    "for lons in lon:\n",
    "    for lats in lat:\n",
    "        check_loc = (lats,lons)\n",
    "        b = int(great_circle(station_loc,check_loc).miles)\n",
    "        if b < min_loc:\n",
    "            min_loc = b\n",
    "            min_lat = lats\n",
    "            min_lon = lons-360\n",
    "\n",
    "y = np.arange(1950,2014)           \n",
    "#scatter plot the precip values at the grid nearest to the lincoln station\n",
    "prcpa = []\n",
    "lon_count = -1\n",
    "lat_count = -1\n",
    "for lons in lon:\n",
    "    lon_count = lon_count +1\n",
    "    if lons == min_lon+360:\n",
    "        for lats in lat:\n",
    "            lat_count = lat_count + 1\n",
    "            if lats == min_lat:\n",
    "                for x in range (0,64):\n",
    "                    prcp2 = prcp[x,lat_count,lon_count]\n",
    "                    prcpa.append(prcp2)\n",
    "    \n",
    "                    #plt.plot(y[x],.03937*prcp[x,lat_count,lon_count],'o', color = 'blue')\n",
    "\n",
    "\n",
    "y = np.arange(1950,2014)\n",
    "#plt.plot(y,prcpa,color = 'blue')\n",
    "\n",
    "plt.title('Number of Days Above the 99th Percentile')\n",
    "plt.suptitle(station_name.strip() + ' VS LIVNEH NEAREST GRID BOX')\n",
    "\n",
    "\n",
    "#---------------------------------------------------------------------------\n",
    "#find the days above the 99th percentile from the GHCN station\n",
    "\n",
    "begin_year = 1950\n",
    "end_year = 2013\n",
    "\n",
    "mylist = []\n",
    "\n",
    "for line in file:\n",
    "    mylist.append(line)\n",
    "\n",
    "daymax = []\n",
    "all_prcp = []\n",
    "for year in range(1950,2014):\n",
    "    year_prcp = []\n",
    "    for line in mylist:\n",
    "        if int(line[11:15]) == year:\n",
    "            if line[17:21] == 'PRCP':\n",
    "                year_prcp.append(line)\n",
    "\n",
    "    new_prcp = []\n",
    "    trace = []\n",
    "    for data in year_prcp:\n",
    "        char1 = 22\n",
    "        char2 = 26\n",
    "        while char1 != 270:\n",
    "            if data[char1:char2] == '9999':\n",
    "                char1 = char1 + 8\n",
    "                char2 = char2 + 8\n",
    "            else:\n",
    "                prcp = (.003937*int(data[char1:char2]))      #convert to inches\n",
    "                all_prcp.append(prcp)\n",
    "                char1 = char1 + 8\n",
    "                char2 = char2 + 8\n",
    "all_prcp.extend(all_prcp)\n",
    "\n",
    "# sort the data from smallest value to largest\n",
    "all_prcp = sorted(all_prcp)\n",
    "\n",
    "#find the percentile location\n",
    "n_elements = size(all_prcp)\n",
    "print(n_elements)\n",
    "\n",
    "#Variable can be changed depending on which percentile is being used\n",
    "percentile = .99\n",
    "\n",
    "loc = round(percentile*n_elements)\n",
    "print(loc)\n",
    "\n",
    "# find the precipitation value at the percentile location\n",
    "RRwn = (all_prcp[loc])\n",
    "\n",
    "\n",
    "#find the number of days in which the precipitation amount was greater than the 99th percentile for a given year\n",
    "#find the annual amount of precipitation when the daily amount is greater than the 99th percentile\n",
    "\n",
    "days = []\n",
    "annual = []\n",
    "\n",
    "#range of years  ***add code to find this automatically\n",
    "#find the first year\n",
    "\n",
    "for year in range(1950,2014):\n",
    "    year_prcp = []\n",
    "    for line in mylist:\n",
    "        if int(line[11:15]) == year:\n",
    "            if line[17:21] == 'PRCP':\n",
    "                year_prcp.append(line)\n",
    "     \n",
    "    new_prcp = []\n",
    "    for data in year_prcp:\n",
    "        char1 = 22\n",
    "        char2 = 26\n",
    "        while char1 != 270:\n",
    "            if data[char1:char2] == '9999':\n",
    "                char1 = char1 + 8\n",
    "                char2 = char2 + 8\n",
    "            else:\n",
    "                prcp = (.003937*int(data[char1:char2])) \n",
    "                new_prcp.append(prcp)\n",
    "                char1 = char1 + 8\n",
    "                char2 = char2 + 8\n",
    "                \n",
    "    day_count = 0  \n",
    "    annprcp = 0\n",
    "    for one in new_prcp:\n",
    "        if one > RRwn:\n",
    "            day_count = 1 + day_count\n",
    "            annprcp = one + annprcp\n",
    "    \n",
    "   \n",
    "    days.append(day_count)\n",
    "    annual.append(annprcp)\n",
    "\n",
    "print(days)\n",
    "print(prcpa)\n",
    "x = np.arange(1950,2013)\n",
    "#plt.plot(x,daymax, color = 'red')\n",
    "\n",
    "\n",
    "def zero_to_nan(values):\n",
    "    \"\"\"Replace every 0 with 'nan' and return a copy.\"\"\"\n",
    "    return [float('nan') if x==0 else x for x in values]\n",
    "\n",
    "\n",
    "\n",
    "plt.scatter(days,prcpa)\n",
    "\n",
    "pearson = pearsonr(days,prcpa)\n",
    "print(pearson[1])            \n",
    "plt.figtext(.15,.8, 'Pearson Correlation: '+ str(round(pearson[0],3)))"
   ]
  },
  {
   "cell_type": "code",
   "execution_count": null,
   "metadata": {
    "collapsed": true
   },
   "outputs": [],
   "source": []
  }
 ],
 "metadata": {
  "kernelspec": {
   "display_name": "Python 3",
   "language": "python",
   "name": "python3"
  },
  "language_info": {
   "codemirror_mode": {
    "name": "ipython",
    "version": 3
   },
   "file_extension": ".py",
   "mimetype": "text/x-python",
   "name": "python",
   "nbconvert_exporter": "python",
   "pygments_lexer": "ipython3",
   "version": "3.6.0"
  }
 },
 "nbformat": 4,
 "nbformat_minor": 2
}
