{
 "cells": [
  {
   "cell_type": "code",
   "execution_count": 1,
   "metadata": {
    "collapsed": true
   },
   "outputs": [],
   "source": [
    "#comparing the average from nces operator and manually calculating the average\n",
    "\n",
    "#Read in three model averages\n",
    "#define the variable \n",
    "#take the average of the variable\n",
    "\n",
    "#read in ensemble file\n",
    "\n",
    "#compare plots?\n",
    "#compare value at same lat and lon"
   ]
  },
  {
   "cell_type": "code",
   "execution_count": 8,
   "metadata": {
    "collapsed": false
   },
   "outputs": [
    {
     "name": "stdout",
     "output_type": "stream",
     "text": [
      "Populating the interactive namespace from numpy and matplotlib\n"
     ]
    }
   ],
   "source": [
    "import numpy as np\n",
    "import matplotlib.pyplot as plt\n",
    "from netCDF4 import Dataset\n",
    "from scipy import stats\n",
    "%pylab inline"
   ]
  },
  {
   "cell_type": "code",
   "execution_count": 13,
   "metadata": {
    "collapsed": false
   },
   "outputs": [
    {
     "name": "stdout",
     "output_type": "stream",
     "text": [
      "52.15625\n",
      "-69.71875\n",
      "85.4309\n",
      "85.4309\n"
     ]
    }
   ],
   "source": [
    "file1 = '/Users/rphinney/Documents/Hollings/pr-above-99th/GISS-E2-H_pr-above-99th_rcp85_2006_2100.nc'\n",
    "file2 = '/Users/rphinney/Documents/Hollings/pr-above-99th/ACCESS1-3_pr-above-99th_rcp85_2006_2100.nc'\n",
    "file3 = '/Users/rphinney/Documents/Hollings/pr-above-99th/GFDL-ESM2M_pr-above-99th_rcp85_2006_2100.nc'\n",
    "\n",
    "data1 = Dataset(file1)\n",
    "data2 = Dataset(file2)\n",
    "data3 = Dataset(file3)\n",
    "\n",
    "lons = data1.variables['lon'][:]\n",
    "lats = data1.variables['lat'][:]\n",
    "prcp1 = data1.variables['pr_above_99th'][:]\n",
    "prcp2 = data2.variables['pr_above_99th'][:]\n",
    "prcp3 = data3.variables['pr_above_99th'][:]\n",
    "\n",
    "\n",
    "new = prcp1 + prcp2 + prcp3\n",
    "\n",
    "avg = new/3.\n",
    "\n",
    "testfile = '/Users/rphinney/Documents/Hollings/pr-above-99th/test.nc'\n",
    "testdata = Dataset(testfile)\n",
    "\n",
    "prcp4 = testdata.variables['pr_above_99th'][:]\n",
    "\n",
    "lat = 460\n",
    "lon = 900\n",
    "print(lats[lat])\n",
    "print(lons[lon] - 360)\n",
    "\n",
    "print(avg[5,lat,lon])\n",
    "print(prcp4[5,lat,lon])"
   ]
  },
  {
   "cell_type": "code",
   "execution_count": 10,
   "metadata": {
    "collapsed": false
   },
   "outputs": [
    {
     "name": "stdout",
     "output_type": "stream",
     "text": [
      "(95, 490, 960)\n"
     ]
    }
   ],
   "source": [
    "print(shape(prcp1))"
   ]
  },
  {
   "cell_type": "code",
   "execution_count": null,
   "metadata": {
    "collapsed": true
   },
   "outputs": [],
   "source": []
  }
 ],
 "metadata": {
  "kernelspec": {
   "display_name": "Python 3",
   "language": "python",
   "name": "python3"
  },
  "language_info": {
   "codemirror_mode": {
    "name": "ipython",
    "version": 3
   },
   "file_extension": ".py",
   "mimetype": "text/x-python",
   "name": "python",
   "nbconvert_exporter": "python",
   "pygments_lexer": "ipython3",
   "version": "3.6.0"
  }
 },
 "nbformat": 4,
 "nbformat_minor": 2
}
