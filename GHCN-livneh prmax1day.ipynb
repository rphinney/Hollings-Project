{
 "cells": [
  {
   "cell_type": "code",
   "execution_count": 1,
   "metadata": {
    "collapsed": false
   },
   "outputs": [],
   "source": [
    "import numpy as np\n",
    "import matplotlib.pyplot as plt\n",
    "from netCDF4 import Dataset\n",
    "from scipy import stats\n",
    "from geopy.distance import great_circle\n",
    "from scipy.stats.stats import pearsonr"
   ]
  },
  {
   "cell_type": "code",
   "execution_count": 2,
   "metadata": {
    "collapsed": false
   },
   "outputs": [
    {
     "name": "stdout",
     "output_type": "stream",
     "text": [
      "Populating the interactive namespace from numpy and matplotlib\n"
     ]
    }
   ],
   "source": [
    "%pylab inline"
   ]
  },
  {
   "cell_type": "code",
   "execution_count": 40,
   "metadata": {
    "collapsed": true
   },
   "outputs": [],
   "source": [
    "\n",
    "station = 'USW00093037'   #SALT LAKE CITY\n",
    "#station = 'USW00093009'\n",
    " \n",
    "filename = '/Users/rphinney/Documents/Hollings/ghcnd_all/'+station+'.dly'\n",
    "file = open(filename, 'r')\n"
   ]
  },
  {
   "cell_type": "code",
   "execution_count": 41,
   "metadata": {
    "collapsed": false
   },
   "outputs": [
    {
     "name": "stdout",
     "output_type": "stream",
     "text": [
      " COLORADO SPRINGS MUNI AP     \n",
      "38.8100\n",
      "-104.6883 \n",
      "1.9117791673e-34\n"
     ]
    },
    {
     "data": {
      "text/plain": [
       "<matplotlib.text.Text at 0x110279eb8>"
      ]
     },
     "execution_count": 41,
     "metadata": {},
     "output_type": "execute_result"
    },
    {
     "data": {
      "image/png": "[encoded data removed]",
      "text/plain": [
       "<matplotlib.figure.Figure at 0x1123b0dd8>"
      ]
     },
     "metadata": {},
     "output_type": "display_data"
    }
   ],
   "source": [
    "\n",
    "    \n",
    "#Using ghcnd-stations.txt get the station information\n",
    "\n",
    "path = '/Users/rphinney/Documents/Hollings/ghcnd-stations.txt'\n",
    "\n",
    "station_file = open(path)\n",
    "ghcnd = []\n",
    "\n",
    "for x in station_file:\n",
    "    ghcnd.append(x)\n",
    "\n",
    "for each_line in ghcnd:   \n",
    "    if each_line[0:11] == station:\n",
    "        station_name = each_line[40:70]\n",
    "        station_state = each_line[38:40]\n",
    "        latitude = each_line[13:20]\n",
    "        longitude = each_line[21:31]\n",
    "        elevation = each_line[32:38]\n",
    "        station_name.strip()\n",
    "        print(station_name)\n",
    "        print(latitude)\n",
    "        print(longitude)\n",
    "            \n",
    "            \n",
    "            \n",
    "#------------------------------------------------------------------\n",
    "#find nearest grid from the livneh file\n",
    "    \n",
    "filepath = '/Users/rphinney/Documents/Hollings/livneh_NAmerExt_15Oct2014_prmax1day_historical_1950_2013.nc'\n",
    "data = Dataset(filepath)\n",
    "    \n",
    "lon = data.variables['lon'][:]\n",
    "lat = data.variables['lat'][:]\n",
    "prcp = data.variables['prmax1day'][:]\n",
    "\n",
    "            \n",
    "station_loc = (latitude,longitude)\n",
    "min_loc = 9999\n",
    "    \n",
    "for lons in lon:\n",
    "    for lats in lat:\n",
    "        check_loc = (lats,lons)\n",
    "        b = int(great_circle(station_loc,check_loc).miles)\n",
    "        if b < min_loc:\n",
    "            min_loc = b\n",
    "            min_lat = lats\n",
    "            min_lon = lons-360\n",
    "\n",
    "y = np.arange(1950,2014)           \n",
    "#scatter plot the precip values at the grid nearest to the lincoln station\n",
    "prcpa = []\n",
    "lon_count = -1\n",
    "lat_count = -1\n",
    "for lons in lon:\n",
    "    lon_count = lon_count +1\n",
    "    if lons == min_lon+360:\n",
    "        for lats in lat:\n",
    "            lat_count = lat_count + 1\n",
    "            if lats == min_lat:\n",
    "                for x in range (0,64):\n",
    "                    prcp2 = .03937*prcp[x,lat_count,lon_count]\n",
    "                    prcpa.append(prcp2)\n",
    "    \n",
    "                    #plt.plot(y[x],.03937*prcp[x,lat_count,lon_count],'o', color = 'blue')\n",
    "\n",
    "\n",
    "y = np.arange(1950,2014)\n",
    "#plt.plot(y,prcpa,color = 'blue')\n",
    "\n",
    "plt.title('Annual 1-Day Maximum Precipitation (in)')\n",
    "plt.suptitle(station_name.strip() + ' VS LIVNEH NEAREST GRID BOX')\n",
    "\n",
    "\n",
    "#---------------------------------------------------------------------------\n",
    "#find the annual max 1 day precip from the GHCN station\n",
    "\n",
    "\n",
    "\n",
    "begin_year = 1950\n",
    "end_year = 2013\n",
    "\n",
    "mylist = []\n",
    "\n",
    "for line in file:\n",
    "    mylist.append(line)\n",
    "\n",
    "daymax = []\n",
    "for year in range(1950,2014):\n",
    "    year_prcp = []\n",
    "    for line in mylist:\n",
    "        if int(line[11:15]) == year:\n",
    "            if line[17:21] == 'PRCP':\n",
    "                year_prcp.append(line)\n",
    "\n",
    "    new_prcp = []\n",
    "    trace = []\n",
    "    for data in year_prcp:\n",
    "        char1 = 22\n",
    "        char2 = 26\n",
    "        while char1 != 270:\n",
    "            if data[char1:char2] == '9999':\n",
    "                char1 = char1 + 8\n",
    "                char2 = char2 + 8\n",
    "            else:\n",
    "                prcp = (.003937*int(data[char1:char2])) \n",
    "                new_prcp.append(prcp)\n",
    "                char1 = char1 + 8\n",
    "                char2 = char2 + 8\n",
    "                    \n",
    "    #Get the maximum one-day precip value------------------------------------------\n",
    "    day_max = max(new_prcp, default = 0)\n",
    "    daymax.append(day_max)\n",
    "\n",
    "x = np.arange(1950,2013)\n",
    "#plt.plot(x,daymax, color = 'red')\n",
    "\n",
    "\n",
    "def zero_to_nan(values):\n",
    "    \"\"\"Replace every 0 with 'nan' and return a copy.\"\"\"\n",
    "    return [float('nan') if x==0 else x for x in values]\n",
    "\n",
    "\n",
    "\n",
    "plt.scatter(zero_to_nan(daymax),prcpa)\n",
    "\n",
    "pearson = pearsonr(zero_to_nan(daymax),prcpa)\n",
    "print(pearson[1])            \n",
    "plt.figtext(.15,.8, 'Pearson Correlation: '+ str(round(pearson[0],3)))"
   ]
  },
  {
   "cell_type": "code",
   "execution_count": null,
   "metadata": {
    "collapsed": true
   },
   "outputs": [],
   "source": []
  }
 ],
 "metadata": {
  "kernelspec": {
   "display_name": "Python 3",
   "language": "python",
   "name": "python3"
  },
  "language_info": {
   "codemirror_mode": {
    "name": "ipython",
    "version": 3
   },
   "file_extension": ".py",
   "mimetype": "text/x-python",
   "name": "python",
   "nbconvert_exporter": "python",
   "pygments_lexer": "ipython3",
   "version": "3.6.0"
  }
 },
 "nbformat": 4,
 "nbformat_minor": 2
}
