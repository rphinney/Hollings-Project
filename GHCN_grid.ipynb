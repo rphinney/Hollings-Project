{
 "cells": [
  {
   "cell_type": "code",
   "execution_count": 2,
   "metadata": {
    "collapsed": false
   },
   "outputs": [],
   "source": [
    "import numpy as np\n",
    "import matplotlib.pyplot as plt\n",
    "from netCDF4 import Dataset\n",
    "from geopy.distance import great_circle"
   ]
  },
  {
   "cell_type": "code",
   "execution_count": 3,
   "metadata": {
    "collapsed": false
   },
   "outputs": [
    {
     "name": "stdout",
     "output_type": "stream",
     "text": [
      "Populating the interactive namespace from numpy and matplotlib\n"
     ]
    }
   ],
   "source": [
    "%pylab inline"
   ]
  },
  {
   "cell_type": "code",
   "execution_count": 4,
   "metadata": {
    "collapsed": true
   },
   "outputs": [],
   "source": [
    "#opening a GHCN-D file and reading variables\n",
    "#Lincoln Station = USW00014939\n",
    "#Asheville: USW00003812\n",
    "# Omaha:'USW00014942'\n",
    "\n",
    "station = 'USW00023065'     #Goodland\n",
    " \n",
    "filename = '/Users/rphinney/Documents/Hollings/ghcnd_all/'+station+'.dly'\n",
    "file = open(filename, 'r')\n",
    "\n",
    "station_array = ['USW00023065', 'USW00014942','USW00003812','USW00014939']"
   ]
  },
  {
   "cell_type": "code",
   "execution_count": 5,
   "metadata": {
    "collapsed": false
   },
   "outputs": [
    {
     "name": "stdout",
     "output_type": "stream",
     "text": [
      " GRAND ISLAND AP              \n",
      "40.9611\n",
      " -98.3136 \n",
      "1\n",
      "40.96875\n",
      "-98.34375\n",
      " LINCOLN MUNI AP              \n",
      "40.8508\n",
      " -96.7475 \n",
      "1\n",
      "40.84375\n",
      "-96.78125\n",
      " HASTINGS MUNI AP             \n",
      "40.6044\n",
      " -98.4272 \n",
      "1\n",
      "40.59375\n",
      "-98.40625\n",
      " OMAHA EPPLEY AIRFIELD        \n",
      "41.3103\n",
      " -95.8992 \n",
      "2\n",
      "41.28125\n",
      "-95.90625\n",
      " ORD EVELYN SHARP FLD         \n",
      "41.6236\n",
      " -98.9517 \n",
      "2\n",
      "41.59375\n",
      "-98.96875\n",
      " NORTH PLATTE RGNL AP         \n",
      "41.1214\n",
      "-100.6694 \n",
      "2\n",
      "41.09375\n",
      "-100.65625\n",
      " MCCOOK MUNI AP               \n",
      "40.2064\n",
      "-100.5914 \n",
      "0\n",
      "40.21875\n",
      "-100.59375\n",
      " SCOTTSBLUFF HEILIG AP        \n",
      "41.8706\n",
      "-103.5931 \n",
      "1\n",
      "41.84375\n",
      "-103.59375\n"
     ]
    },
    {
     "ename": "FileNotFoundError",
     "evalue": "[Errno 2] No such file or directory: '/Users/rphinney/Documents/Hollings/ghcnd_all/.dly'",
     "output_type": "error",
     "traceback": [
      "\u001b[0;31m---------------------------------------------------------------------------\u001b[0m",
      "\u001b[0;31mFileNotFoundError\u001b[0m                         Traceback (most recent call last)",
      "\u001b[0;32m<ipython-input-5-92bee9de7f5f>\u001b[0m in \u001b[0;36m<module>\u001b[0;34m()\u001b[0m\n\u001b[1;32m     12\u001b[0m \u001b[0;34m\u001b[0m\u001b[0m\n\u001b[1;32m     13\u001b[0m     \u001b[0mfilename\u001b[0m \u001b[0;34m=\u001b[0m \u001b[0;34m'/Users/rphinney/Documents/Hollings/ghcnd_all/'\u001b[0m\u001b[0;34m+\u001b[0m\u001b[0mstation\u001b[0m\u001b[0;34m+\u001b[0m\u001b[0;34m'.dly'\u001b[0m\u001b[0;34m\u001b[0m\u001b[0m\n\u001b[0;32m---> 14\u001b[0;31m     \u001b[0mfile\u001b[0m \u001b[0;34m=\u001b[0m \u001b[0mopen\u001b[0m\u001b[0;34m(\u001b[0m\u001b[0mfilename\u001b[0m\u001b[0;34m,\u001b[0m \u001b[0;34m'r'\u001b[0m\u001b[0;34m)\u001b[0m\u001b[0;34m\u001b[0m\u001b[0m\n\u001b[0m\u001b[1;32m     15\u001b[0m \u001b[0;34m\u001b[0m\u001b[0m\n\u001b[1;32m     16\u001b[0m     \u001b[0;31m#Using ghcnd-stations.txt get the station information\u001b[0m\u001b[0;34m\u001b[0m\u001b[0;34m\u001b[0m\u001b[0m\n",
      "\u001b[0;31mFileNotFoundError\u001b[0m: [Errno 2] No such file or directory: '/Users/rphinney/Documents/Hollings/ghcnd_all/.dly'"
     ]
    }
   ],
   "source": [
    "#Loop through all stations\n",
    "\n",
    "midstations = open('/Users/rphinney/Documents/midstations.txt','r')\n",
    "station_array = []\n",
    "\n",
    "for n in midstations:\n",
    "    station_array.append(n)\n",
    "\n",
    "for station in station_array:\n",
    "    station = station.strip()\n",
    "\n",
    "    \n",
    "    filename = '/Users/rphinney/Documents/Hollings/ghcnd_all/'+station+'.dly'\n",
    "    file = open(filename, 'r')\n",
    "    \n",
    "    #Using ghcnd-stations.txt get the station information\n",
    "\n",
    "    path = '/Users/rphinney/Documents/Hollings/ghcnd-stations.txt'\n",
    "\n",
    "    station_file = open(path)\n",
    "    ghcnd = []\n",
    "\n",
    "    for x in station_file:\n",
    "        ghcnd.append(x)\n",
    "\n",
    "    for each_line in ghcnd:   \n",
    "        if each_line[0:11] == station:\n",
    "            station_name = each_line[40:70]\n",
    "            station_state = each_line[38:40]\n",
    "            latitude = each_line[13:20]\n",
    "            longitude = each_line[21:31]\n",
    "            elevation = each_line[32:38]\n",
    "            station_name.strip()\n",
    "            print(station_name)\n",
    "            print(latitude)\n",
    "            print(longitude)\n",
    "            \n",
    "            \n",
    "            \n",
    "    #------------------------------------------------------------------\n",
    "    #find nearest grid from the livneh file\n",
    "    \n",
    "    filepath = '/Users/rphinney/Documents/Hollings/livneh_NAmerExt_15Oct2014_prmax1day_historical_1950_2013.nc'\n",
    "    data = Dataset(filepath)\n",
    "    \n",
    "    lon = data.variables['lon'][:]\n",
    "    lat = data.variables['lat'][:]\n",
    "            \n",
    "    station_loc = (latitude,longitude)\n",
    "    min_loc = 9999\n",
    "    \n",
    "    for lons in lon:\n",
    "        for lats in lat:\n",
    "            check_loc = (lats,lons)\n",
    "            b = int(great_circle(station_loc,check_loc).miles)\n",
    "            if b < min_loc:\n",
    "                min_loc = b\n",
    "                min_lat = lats\n",
    "                min_lon = lons-360\n",
    "    \n",
    "            \n",
    "    print(min_loc)\n",
    "    print(min_lat)\n",
    "    print(min_lon)\n",
    "    \n",
    "            \n",
    "            "
   ]
  },
  {
   "cell_type": "code",
   "execution_count": null,
   "metadata": {
    "collapsed": false
   },
   "outputs": [],
   "source": [
    "b = great_circle(station_loc,check_loc).miles"
   ]
  },
  {
   "cell_type": "code",
   "execution_count": 6,
   "metadata": {
    "collapsed": false
   },
   "outputs": [
    {
     "name": "stdout",
     "output_type": "stream",
     "text": [
      "<class 'netCDF4._netCDF4.Variable'>\n",
      "float64 lon(lon)\n",
      "    standard_name: longitude\n",
      "    long_name: longitude\n",
      "    units: degrees_east\n",
      "    modulo: 360.0\n",
      "    axis: X\n",
      "    bounds: lon_bounds\n",
      "unlimited dimensions: \n",
      "current shape = (928,)\n",
      "filling on, default _FillValue of 9.969209968386869e+36 used\n",
      "\n"
     ]
    }
   ],
   "source": [
    "print(data.variables['lon'])"
   ]
  },
  {
   "cell_type": "code",
   "execution_count": null,
   "metadata": {
    "collapsed": true
   },
   "outputs": [],
   "source": []
  }
 ],
 "metadata": {
  "kernelspec": {
   "display_name": "Python 3",
   "language": "python",
   "name": "python3"
  },
  "language_info": {
   "codemirror_mode": {
    "name": "ipython",
    "version": 3
   },
   "file_extension": ".py",
   "mimetype": "text/x-python",
   "name": "python",
   "nbconvert_exporter": "python",
   "pygments_lexer": "ipython3",
   "version": "3.6.0"
  }
 },
 "nbformat": 4,
 "nbformat_minor": 2
}
